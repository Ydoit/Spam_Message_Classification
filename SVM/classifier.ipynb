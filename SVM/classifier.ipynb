{
 "cells": [
  {
   "cell_type": "code",
   "execution_count": 19,
   "metadata": {
    "collapsed": true
   },
   "outputs": [],
   "source": [
    "import jieba\n",
    "import time\n",
    "import pandas as pd\n",
    "import numpy as np\n",
    "import matplotlib.pyplot as plt\n",
    "from sklearn import svm\n",
    "from sklearn.model_selection import train_test_split\n",
    "from sklearn import metrics\n",
    "from scipy import io,sparse\n",
    "import json\n",
    "import joblib\n",
    "from sklearn.naive_bayes import GaussianNB,MultinomialNB,BernoulliNB\n",
    "from sklearn.decomposition import PCA\n",
    "from joblib import dump"
   ]
  },
  {
   "cell_type": "code",
   "execution_count": 20,
   "metadata": {
    "collapsed": true
   },
   "outputs": [],
   "source": [
    "def logtime(func):\n",
    "    \"\"\"\n",
    "    函数目的：测量函数运行时间 \n",
    "    Parameter:\n",
    "        func - 被测量的函数\n",
    "    Return:\n",
    "        wrapper - 被装饰之后的函数\n",
    "    \"\"\"\n",
    "    def wrapper(*args,**kwargs):\n",
    "        start = time.time()\n",
    "        result = func(*args,**kwargs)\n",
    "        end = time.time()\n",
    "        print(\"完成函数{name}, 运行时间 {totaltime:.3f}s\".format(name=func.__name__,totaltime=end-start))\n",
    "        start = time.strftime('%Y-%m-%d %H:%M:%S',time.localtime(start))\n",
    "        end = time.strftime('%Y-%m-%d %H:%M:%S',time.localtime(end))\n",
    "        print(\"开始时间 : %s \\n结束时间 : %s \"%(start,end))\n",
    "        return result\n",
    "    return wrapper"
   ]
  },
  {
   "cell_type": "code",
   "execution_count": 21,
   "metadata": {
    "collapsed": true
   },
   "outputs": [],
   "source": [
    "def load_data_from_file(content_path,label_path):\n",
    "    content = io.mmread(content_path)\n",
    "    with open(label_path, 'r') as f:\n",
    "        label = json.load(f)\n",
    "    return content,label"
   ]
  },
  {
   "cell_type": "code",
   "execution_count": 22,
   "metadata": {
    "collapsed": true
   },
   "outputs": [],
   "source": [
    "def split_data(content,label):\n",
    "    train_content,test_content,train_label,test_label = train_test_split(content,label,test_size=0.2)\n",
    "    return train_content,test_content,train_label,test_label"
   ]
  },
  {
   "cell_type": "code",
   "execution_count": 23,
   "metadata": {
    "collapsed": true
   },
   "outputs": [],
   "source": [
    "@logtime\n",
    "def dimensionality_reduction(content):\n",
    "        n_components = 1000\n",
    "        pca = PCA(n_components=n_components, svd_solver='auto')\n",
    "        pca.fit(content)\n",
    "        content = sparse.csr_matrix(pca.transform(content))\n",
    "        return content"
   ]
  },
  {
   "cell_type": "code",
   "execution_count": 24,
   "metadata": {
    "collapsed": true
   },
   "outputs": [],
   "source": [
    "@logtime\n",
    "def clf_train(clf,train_content,train_label):\n",
    "    return clf.fit(train_content.toarray(),train_label)"
   ]
  },
  {
   "cell_type": "code",
   "execution_count": 25,
   "metadata": {
    "collapsed": true
   },
   "outputs": [],
   "source": [
    "def train_svm(train_content,train_label):\n",
    "    \"\"\"\n",
    "    函数说明：训练SVM分类器\n",
    "    Parameter:\n",
    "        train_content - 训练数据\n",
    "        train_label - 训练标签\n",
    "    Return:\n",
    "        classifier.fit(vector,label) - 训练好的分类器\n",
    "    Modify:\n",
    "        2017-12-22\n",
    "    \"\"\"\n",
    "    kernals = [\"linear\",\"rbf\"]\n",
    "    clfs = []\n",
    "    for kernel in kernals:\n",
    "       \n",
    "        clf = svm.SVC(kernel=kernel)\n",
    "        clf = clf_train(clf,train_content,train_label)\n",
    "        clfs.append(clf)\n",
    "        model_filename = f'../../save_model/svm_model_{kernel}.joblib'\n",
    "        dump(clf, model_filename)\n",
    "    return clfs"
   ]
  },
  {
   "cell_type": "code",
   "execution_count": 26,
   "metadata": {
    "collapsed": true
   },
   "outputs": [],
   "source": [
    "def train_bayes(train_content,train_label):\n",
    "    \"\"\"\n",
    "    函数说明：训练贝叶斯分类器\n",
    "    Parameter:\n",
    "        train_content - 训练数据\n",
    "        train_label - 训练标签\n",
    "    Return:\n",
    "        classifier.fit(vector,label) - 训练好的分类器\n",
    "    Modify:\n",
    "        2017-12-22\n",
    "    \n",
    "    \"\"\"\n",
    "    bayes = [ GaussianNB(),MultinomialNB(),BernoulliNB()]\n",
    "    clfs = []\n",
    "    for baye in bayes:\n",
    "        clf = clf_train(baye,train_content,train_label)\n",
    "        clfs.append(clf)\n",
    "        model_filename = f'../../save_model/svm_model_{baye}.joblib'\n",
    "        dump(clf, model_filename)\n",
    "    return clfs"
   ]
  },
  {
   "cell_type": "code",
   "execution_count": 27,
   "metadata": {
    "collapsed": true
   },
   "outputs": [],
   "source": [
    "@logtime\n",
    "def clf_pred(clf,test_content,test_label):\n",
    "    pred=clf.predict(test_content.toarray())\n",
    "    score = elevate_result(pred,test_label)\n",
    "    return score"
   ]
  },
  {
   "cell_type": "code",
   "execution_count": 28,
   "metadata": {
    "collapsed": true
   },
   "outputs": [],
   "source": [
    "def elevate_result(label,pred):\n",
    "    \"\"\"\n",
    "    函数说明: 对分类器预测的结果进行评估，包括accurancy,precision,recall,F-score\n",
    "    Parameter:\n",
    "        label - 真实值\n",
    "        pred - 预测值\n",
    "    Return:\n",
    "        None\n",
    "    Modify:\n",
    "        2017-12-22\n",
    "    \"\"\"\n",
    "    con_mat = metrics.confusion_matrix(label,pred)\n",
    "    TP = con_mat[1,1]\n",
    "    TN = con_mat[0,0]\n",
    "    FP = con_mat[0,1]\n",
    "    FN = con_mat[1,0]\n",
    "    \n",
    "    accurancy = (TP+TN)/(TP+TN+FN+FP)\n",
    "    precison = TP/(TP+FP) #精确率反应误报情况\n",
    "    recall = TP/(TP+FN) # 召回率反应漏报情况\n",
    "    beta = 1\n",
    "    F_score = (1+pow(beta,2))*precison*recall/(pow(beta,2)*precison+recall)\n",
    "    \n",
    "    print(\"TP:\",TP)\n",
    "    print(\"TN:\",TN)\n",
    "    print(\"FP:\",FP)\n",
    "    print(\"FN:\",FN) \n",
    "    print(\"accurancy: %s \\nprecison: %s \\nrecall: %s \\nF-score: %s\" % (accurancy,precison,recall,F_score))\n",
    "    \n",
    "    return [accurancy,precison,recall,F_score]\n"
   ]
  },
  {
   "cell_type": "code",
   "execution_count": 29,
   "metadata": {
    "collapsed": true
   },
   "outputs": [],
   "source": [
    "# from matplotlib.ticker import FormatStrFormatter\n",
    "def plot_result(scores,sample_num):\n",
    "    scorename = [\"accurancy\",\"precision\",\"recall\",\"F_score\"]\n",
    "    labels = [\"SVM-linear\",\"SVM-rbf\",\"GaussianNB\",\"MultinomialNB\",\"BernoulliNB\"]\n",
    "#     labels = [\"SVM-linear\",\"SVM-rbf\"]\n",
    "    fig,ax = plt.subplots(figsize=(16,10))\n",
    "    \n",
    "    x = np.arange(len(scorename))\n",
    "    total_width, n = 0.8,5     # 有多少个类型，只需更改n即可\n",
    "    width = total_width / n\n",
    "    x = x - (total_width - width) / 2\n",
    "    \n",
    "    for index,score in enumerate(scores):\n",
    "        rects=ax.bar(x+index*width,score,alpha=0.8,label=labels[index],width=width)\n",
    "        for rect in rects:\n",
    "            height = rect.get_height()\n",
    "            ax.text(rect.get_x() + rect.get_width() / 2., 1.005 * height,\n",
    "                    f'{height:.3g}', ha='center', va='bottom')\n",
    "        \n",
    "    ax.set_ylim(ymax=1.2)     \n",
    "    # ax.yaxis.set_major_formatter(FormatStrFormatter('%.1f'))\n",
    "    # ax.set_yticks(np.arange(0,1.2,0.2))\n",
    "    ax.set_yticklabels(['%.1f' % i for i in np.arange(0,1.2,0.2)], fontsize=15)\n",
    "    # ax.set_yticklabels(np.arange(0,1.2,0.2),fontsize=15)\n",
    "    ax.set_xlim(xmax=len(scorename)+0.5)\n",
    "    ax.set_xticks(range(len(scorename)))\n",
    "    ax.set_xticklabels(scorename,fontsize=15)\n",
    "    plt.legend(loc='lower right',fontsize=15)\n",
    "    plt.title(\"The result of \"+sample_num,fontsize=20)\n",
    "    # plt.savefig(\"../result/\"+sample_num+\"_result.jpg\")\n",
    "    plt.savefig(\"./result/_result.jpg\")\n",
    "    plt.show()"
   ]
  },
  {
   "cell_type": "code",
   "execution_count": 30,
   "metadata": {
    "collapsed": true
   },
   "outputs": [],
   "source": [
    "def main(sample_num):\n",
    "    content_path = \"../data/\"+sample_num+\"_content_vector.mtx\"\n",
    "    label_path =  \"../data/\"+sample_num+\"_label_vector.json\"\n",
    "    \n",
    "    content,label=load_data_from_file(content_path,label_path)\n",
    "#     content = dimensionality_reduction(content.todense())\n",
    "    train_content,test_content,train_label,test_label = split_data(content,label)\n",
    "    \n",
    "    scores = []\n",
    "    \n",
    "    # svms = train_svm(train_content,train_label)\n",
    "    # for clf in svms:   \n",
    "    #     score = clf_pred(clf,test_content,test_label)\n",
    "    #     scores.append(score)\n",
    "        \n",
    "    bayes = train_bayes(train_content,train_label)\n",
    "    for clf in bayes:   \n",
    "        score = clf_pred(clf,test_content,test_label)\n",
    "        scores.append(score)\n",
    "    plot_result(scores,sample_num)"
   ]
  },
  {
   "cell_type": "code",
   "execution_count": 31,
   "metadata": {},
   "outputs": [
    {
     "name": "stdout",
     "output_type": "stream",
     "text": [
      "完成函数clf_train, 运行时间 79.289s\n",
      "开始时间 : 2024-03-22 09:49:36 \n",
      "结束时间 : 2024-03-22 09:50:56 \n",
      "完成函数clf_train, 运行时间 3.016s\n",
      "开始时间 : 2024-03-22 09:50:56 \n",
      "结束时间 : 2024-03-22 09:50:59 \n",
      "完成函数clf_train, 运行时间 24.565s\n",
      "开始时间 : 2024-03-22 09:50:59 \n",
      "结束时间 : 2024-03-22 09:51:23 \n",
      "TP: 387\n",
      "TN: 3308\n",
      "FP: 2\n",
      "FN: 303\n",
      "accurancy: 0.92375 \n",
      "precison: 0.9948586118251928 \n",
      "recall: 0.5608695652173913 \n",
      "F-score: 0.7173308619091752\n",
      "完成函数clf_pred, 运行时间 0.781s\n",
      "开始时间 : 2024-03-22 09:51:23 \n",
      "结束时间 : 2024-03-22 09:51:24 \n",
      "TP: 388\n",
      "TN: 3554\n",
      "FP: 1\n",
      "FN: 57\n",
      "accurancy: 0.9855 \n",
      "precison: 0.9974293059125964 \n",
      "recall: 0.8719101123595505 \n",
      "F-score: 0.9304556354916068\n",
      "完成函数clf_pred, 运行时间 0.245s\n",
      "开始时间 : 2024-03-22 09:51:24 \n",
      "结束时间 : 2024-03-22 09:51:24 \n",
      "TP: 371\n",
      "TN: 3610\n",
      "FP: 18\n",
      "FN: 1\n",
      "accurancy: 0.99525 \n",
      "precison: 0.9537275064267352 \n",
      "recall: 0.9973118279569892 \n",
      "F-score: 0.9750328515111696\n",
      "完成函数clf_pred, 运行时间 0.574s\n",
      "开始时间 : 2024-03-22 09:51:24 \n",
      "结束时间 : 2024-03-22 09:51:25 \n"
     ]
    },
    {
     "name": "stderr",
     "output_type": "stream",
     "text": [
      "/tmp/ipykernel_3925115/358812597.py:23: UserWarning: FixedFormatter should only be used together with FixedLocator\n",
      "  ax.set_yticklabels(['%.1f' % i for i in np.arange(0,1.2,0.2)], fontsize=15)\n"
     ]
    },
    {
     "data": {
      "image/png": "[encoded data removed]",
      "text/plain": [
       "<Figure size 1600x1000 with 1 Axes>"
      ]
     },
     "metadata": {},
     "output_type": "display_data"
    }
   ],
   "source": [
    "if __name__ == \"__main__\":\n",
    "#     pass\n",
    "    # sample_list=['sample1','sample2','sample3']\n",
    "    sample_list=['sample3']\n",
    "    for sample in sample_list:\n",
    "        main(sample)"
   ]
  }
 ],
 "metadata": {
  "kernelspec": {
   "display_name": "Python 3",
   "language": "python",
   "name": "python3"
  },
  "language_info": {
   "codemirror_mode": {
    "name": "ipython",
    "version": 3
   },
   "file_extension": ".py",
   "mimetype": "text/x-python",
   "name": "python",
   "nbconvert_exporter": "python",
   "pygments_lexer": "ipython3",
   "version": "3.11.5"
  }
 },
 "nbformat": 4,
 "nbformat_minor": 2
}
