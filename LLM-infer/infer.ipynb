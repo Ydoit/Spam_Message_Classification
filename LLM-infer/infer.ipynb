{
 "cells": [
  {
   "cell_type": "code",
   "execution_count": 4,
   "metadata": {},
   "outputs": [],
   "source": [
    "from openai import OpenAI\n",
    "import pandas as pd\n",
    "import csv"
   ]
  },
  {
   "cell_type": "code",
   "execution_count": 5,
   "metadata": {},
   "outputs": [],
   "source": [
    "spam_df=pd.read_csv('../data/pred_all/spam.csv')  #read the csv file\n",
    "spam_content=spam_df['content']  #get the content column"
   ]
  },
  {
   "cell_type": "code",
   "execution_count": 7,
   "metadata": {},
   "outputs": [],
   "source": [
    "client = OpenAI(api_key=\"none\", base_url=\"http://222.20.126.133:8000/v1\")\n",
    "count=0\n",
    "with open('../../datasets/infer_resault.csv','a') as f:\n",
    "    wr=csv.writer(f)\n",
    "    wr.writerow(['mess','class'])\n",
    "    for index ,value in spam_content.items():\n",
    "        count+=1\n",
    "        response = client.chat.completions.create(\n",
    "            model=\"mistralai/Mistral-7B-Instruct-v0.2\",\n",
    "            messages=[\n",
    "                {\n",
    "                    \"role\": \"user\",\n",
    "                    \"content\": '''我现在需要你扮演一个对垃圾短信进行分类的分类器，首先我将向你介绍垃圾短信的类别\n",
    "                                1.广告垃圾短信\n",
    "                                    这类短信主要是推销某种产品或服务,包括各种商品促销、酬宾活动、房地产广告等。它们往往使用诱惑性的语言,夸大宣传效果。\n",
    "                                2.欺诈诈骗短信\n",
    "                                    这一类旨在骗取用户的个人信息或经济利益,包括资金诈骗、钓鱼网站链接、虚假中奖信息等。语言往往充满误导性,蛊惑人心。\n",
    "                                3.色情垃圾短信\n",
    "                                    此类短信内容涉及色情、淫秽信息,可能含有露骨的文字描述或链接到不良网站。\n",
    "                                4.骚扰短信\n",
    "                                    指一些无意义的骚扰性内容,如语无伦次、人身攻击、谩骂等,目的是干扰或骚扰收信人。\n",
    "                                5.赌博诈骗短信\n",
    "                                    宣传各种赌博网站、彩票等非法赌博活动,往往包含诈骗性的内容。\n",
    "                                6.病毒木马短信\n",
    "                                    包含一些恶意链接或附件,点击后可能会感染病毒、木马等恶意软件。\n",
    "                                7.其他垃圾信息\n",
    "                                    一些其他无关紧要、无意义的垃圾内容,不属于上述任何一类。\n",
    "                                接下来我将争对一条垃圾短信对你进行询问，你需要回答我该垃圾短信属于哪一类，你只需要在\n",
    "                                “广告”、“诈骗”、“色情”、“骚扰”、“赌博”、“病毒”、“其他”\n",
    "                                这几个词中选一个进行回答即可，无需任何其他的附加内容，下面我将对你进行提问：\n",
    "                                垃圾短信\n",
    "                                “f{value}”\n",
    "                                属于什么类别的垃圾短信？''',\n",
    "                }\n",
    "            ],\n",
    "        )\n",
    "        resp=response.choices[0].message.content\n",
    "        wr.writerow([value,resp])\n"
   ]
  }
 ],
 "metadata": {
  "kernelspec": {
   "display_name": "base",
   "language": "python",
   "name": "python3"
  },
  "language_info": {
   "codemirror_mode": {
    "name": "ipython",
    "version": 3
   },
   "file_extension": ".py",
   "mimetype": "text/x-python",
   "name": "python",
   "nbconvert_exporter": "python",
   "pygments_lexer": "ipython3",
   "version": "3.11.5"
  }
 },
 "nbformat": 4,
 "nbformat_minor": 2
}
