{
 "cells": [
  {
   "cell_type": "code",
   "execution_count": 1,
   "metadata": {},
   "outputs": [],
   "source": [
    "import jieba\n",
    "import time\n",
    "import pandas as pd\n",
    "import numpy as np\n",
    "import sklearn\n",
    "from sklearn.feature_extraction.text import CountVectorizer  \n",
    "from scipy import io\n",
    "import json\n",
    "from joblib import load   \n",
    "import csv"
   ]
  },
  {
   "cell_type": "markdown",
   "metadata": {},
   "source": []
  },
  {
   "cell_type": "markdown",
   "metadata": {},
   "source": [
    "加载模型"
   ]
  },
  {
   "cell_type": "code",
   "execution_count": 7,
   "metadata": {},
   "outputs": [],
   "source": [
    "clf=load('../../save_model/svm_model_linear.joblib')"
   ]
  },
  {
   "cell_type": "markdown",
   "metadata": {},
   "source": [
    "定义分词器"
   ]
  },
  {
   "cell_type": "code",
   "execution_count": 21,
   "metadata": {},
   "outputs": [],
   "source": [
    "class MessageCountVectorizer(sklearn.feature_extraction.text.CountVectorizer):\n",
    "    def build_analyzer(self):\n",
    "        def analyzer(doc):\n",
    "            words = jieba.cut(doc)\n",
    "            return words\n",
    "        return analyzer"
   ]
  },
  {
   "cell_type": "markdown",
   "metadata": {},
   "source": [
    "适配训练数据并且对测试数据进行分词"
   ]
  },
  {
   "cell_type": "code",
   "execution_count": 22,
   "metadata": {},
   "outputs": [],
   "source": [
    "import pandas as pd \n",
    "vect = \tMessageCountVectorizer(max_df=0.9,min_df=2)\n",
    "df=pd.read_csv('../data/sample3.csv')\n",
    "train_content=df['content']\n",
    "vect.fit(train_content)\n",
    "df=pd.read_csv('../data/test.csv')\n",
    "test_content=df['content']\n",
    "test_content=vect.transform(test_content)\n"
   ]
  },
  {
   "cell_type": "markdown",
   "metadata": {},
   "source": [
    "加载原标签"
   ]
  },
  {
   "cell_type": "code",
   "execution_count": 23,
   "metadata": {},
   "outputs": [],
   "source": [
    "# test_content = io.mmread('../data/test_content_vector.mtx')\n",
    "# label=[]\n",
    "# with open('../data/test_label_vector.json', 'r') as f:\n",
    "#     label = json.load(f)\n",
    "label_t=[]\n",
    "with open('../data/test.csv','r') as f:\n",
    "    re=csv.reader(f)\n",
    "    next(re)\n",
    "    for row in re:\n",
    "        label_t.append(int(row[0]))\n",
    "# for a ,b in zip(label,label_t):\n",
    "#     if a!=int(b):\n",
    "#         print(a,b)\n"
   ]
  },
  {
   "cell_type": "markdown",
   "metadata": {},
   "source": [
    "预测测试数据"
   ]
  },
  {
   "cell_type": "code",
   "execution_count": 24,
   "metadata": {},
   "outputs": [],
   "source": [
    "pred=clf.predict(test_content.toarray())"
   ]
  },
  {
   "cell_type": "code",
   "execution_count": 25,
   "metadata": {},
   "outputs": [
    {
     "name": "stdout",
     "output_type": "stream",
     "text": [
      "<class 'numpy.ndarray'>\n"
     ]
    }
   ],
   "source": [
    "print(type(pred))"
   ]
  },
  {
   "cell_type": "markdown",
   "metadata": {},
   "source": [
    "获取预测结果"
   ]
  },
  {
   "cell_type": "code",
   "execution_count": 29,
   "metadata": {},
   "outputs": [],
   "source": [
    "pred_list=[]\n",
    "for value in pred:\n",
    "    value=int(value)\n",
    "    pred_list.append(value)"
   ]
  },
  {
   "cell_type": "markdown",
   "metadata": {},
   "source": [
    "获取漏报误报"
   ]
  },
  {
   "cell_type": "code",
   "execution_count": 36,
   "metadata": {},
   "outputs": [],
   "source": [
    "err_dict={}\n",
    "with open('../data/test.csv','r') as f:\n",
    "    re=csv.reader(f)\n",
    "    next(re)\n",
    "    re=list(re)\n",
    "    for a, b in zip (pred_list,re):\n",
    "        if int(a) != int(b[0]):\n",
    "            err_dict[b[1]]=int(a)"
   ]
  },
  {
   "cell_type": "code",
   "execution_count": 37,
   "metadata": {},
   "outputs": [
    {
     "name": "stdout",
     "output_type": "stream",
     "text": [
      "109\n"
     ]
    }
   ],
   "source": [
    "print(len(err_dict))"
   ]
  },
  {
   "cell_type": "code",
   "execution_count": 39,
   "metadata": {},
   "outputs": [
    {
     "name": "stdout",
     "output_type": "stream",
     "text": [
      "亲爱的佳人们\n",
      " 0\n",
      "\n",
      "\n",
      "办年审 0\n",
      "\n",
      "\n",
      "西城年华小四女及望月公寓小三女作业xx元/时；西溪风情初一女英科学xx元/时；之江公寓高一女数理化xx元/时请回电神舟家教xxxxxxxx佘\n",
      " 0\n",
      "\n",
      "\n",
      "请把房租打到招行xxxxxxxxxxxxxxxx邹晓燕\n",
      " 0\n",
      "\n",
      "\n",
      "xxxx开疆拓土!现房\n",
      " 0\n",
      "\n",
      "\n",
      "鼓楼龙江有房 0\n",
      "\n",
      "\n",
      "知音半岛·泊翠 后官湖生态宜居新城内 0\n",
      "\n",
      "\n",
      "安赢系列x年期保证年利率x.xx% 0\n",
      "\n",
      "\n",
      "明月新城底商排号优惠政策～东升老业主排号五万抵十万～普通客户排号五万抵八万～有需要的可以和我联系～明月新城马小龙～ 0\n",
      "\n",
      "\n",
      "健康在线尤维斯产品大促全场买二送一产品购一套即再送一瓶维e\n",
      " 0\n",
      "\n",
      "\n",
      "信用社xxxxxxxxxxxxxxxx佘远美\n",
      " 0\n",
      "\n",
      "\n",
      "本公司主要经营五金冲压及其制品 0\n",
      "\n",
      "\n",
      "xxxxxxoxxxxxxxxxoxo农行张玉兰\n",
      " 0\n",
      "\n",
      "\n",
      "玛雅国际养生会所回馈新老顾客\n",
      " 0\n",
      "\n",
      "\n",
      "中国电信真xG、华为Matex免费送！预存xxxx元话费即送华为xG双模手机Matex 0\n",
      "\n",
      "\n",
      "办各种证件电话xxxxxxxxxxx 0\n",
      "\n",
      "\n",
      "本期水一木一金野兽开一特\n",
      " 0\n",
      "\n",
      "\n",
      "尊敬的晋商银行客户：x月xx日前发行理财\n",
      " 0\n",
      "\n",
      "\n",
      "开o/o發o/o剽xxxxixxxxxx王艳\n",
      " 0\n",
      "\n",
      "\n",
      "xxxxxxxxxxxxxxxxx 0\n",
      "\n",
      "\n",
      "d今后不用麻烦去*奥*门了\n",
      " 0\n",
      "\n",
      "\n",
      "应城中百蒙牛奶粉全场惊爆x\n",
      " 0\n",
      "\n",
      "\n",
      "惊喜x[闪电][ 厂家特惠原价xxxx元面部护理年卡xx次现只需xxxx元xx次[炸弹][炸弹][炸弹]凡在开卡时间一年内做满xx次再 0\n",
      "\n",
      "\n",
      "xxx期失利的友友\n",
      " 0\n",
      "\n",
      "\n",
      "单击服务＞办理＞业务办理＞自由组合套餐变更\n",
      " 1\n",
      "\n",
      "\n",
      "豁然文化学校在职一线金牌教师一对一全科辅导质量保证xx天提升xxx分精品小班师资力量雄厚签约教学价格全市最低提分热线xxxxxxxx 0\n",
      "\n",
      "\n",
      "曾经往事常回首\n",
      " 0\n",
      "\n",
      "\n",
      "尊敬的贵宾：元宵佳节到\n",
      " 0\n",
      "\n",
      "\n",
      "急用钱 0\n",
      "\n",
      "\n",
      "北方国内货运代 理处欢迎您 0\n",
      "\n",
      "\n",
      "我厂为饭店快餐店制造安装改装维修节能炉冰柜空调电器清洗油烟机\n",
      " 0\n",
      "\n",
      "\n",
      "永乐莘庄龙之梦黑色星期五满额最高送x千积分全网比价xxx%正品保障活动x月xx日至xx日沪闵路xxxx号Bx咨询电话xxxxxxxx\n",
      " 0\n",
      "\n",
      "\n",
      "我是刚才给您打电话的大中华置业顾问【薛野】xxxxxxxxxxx 0\n",
      "\n",
      "\n",
      "亲爱的VIP\n",
      " 0\n",
      "\n",
      "\n",
      "出的创业基金￥xxxxx元人民币和苹果笔记本电脑一台 0\n",
      "\n",
      "\n",
      "嘉新货运公司.主营山东专线 0\n",
      "\n",
      "\n",
      "香烟供应;中华xxx 0\n",
      "\n",
      "\n",
      "冲刺xxx\n",
      " 0\n",
      "\n",
      "\n",
      "冀新物资:我公司专营H型钢\n",
      " 0\n",
      "\n",
      "\n",
      "莞香楼东升店欢迎您 0\n",
      "\n",
      "\n",
      "xxxxxxxxxxxxxxxxxxx王立军建行\n",
      " 0\n",
      "\n",
      "\n",
      "昆奥电梯感谢您的来电\n",
      " 0\n",
      "\n",
      "\n",
      "本小额贷款公司利率低放款快额度高适合：工薪贷\n",
      " 0\n",
      "\n",
      "\n",
      "《小小茶叶》“三八”准备了茶枕\n",
      " 0\n",
      "\n",
      "\n",
      "[大润发六桂福珠宝]尊敬的客户您好 0\n",
      "\n",
      "\n",
      "米拉贝尔儿童摄影八一路旗　舰店xxxx喜迎元宵节套餐全　场拍一套　送二套　新主题等您拍充值惊喜多多赶快抢订xxxxxxx【米拉贝尔】\n",
      " 0\n",
      "\n",
      "\n",
      "玛其娜美容美发有限公司祥泰店\n",
      " 0\n",
      "\n",
      "\n",
      "哈尔滨市中顺二手车市卖二手车李海常年收二手车三米多一六米多货车提供信息者有信息费电话xxxxxxxxxxx\n",
      " 0\n",
      "\n",
      "\n",
      "免费办理民生银行大额信用卡x--xx万 0\n",
      "\n",
      "\n",
      "后致电华为客服说不影响使用就无法更换\n",
      " 1\n",
      "\n",
      "\n",
      "独门独院\n",
      " 0\n",
      "\n",
      "\n",
      "湖州康宏源净水设备有限公司专业销售安装商用家用净水机现诚聘业务员地址长兴雉城望春路xxx号电话xxxxxxx xxxxxxx 0\n",
      "\n",
      "\n",
      "你好同行、我是江北汇中财富的杨菲菲、我们公司在观音桥步行街富力海洋国际写字楼x楼。公司现在件均五万、过件率在百分之五十以上、节后批款速\n",
      " 0\n",
      "\n",
      "\n",
      "我公司现有一丙二轮机长做大管工资一万五千五百元渐江人今年xx岁有意者联系老陈\n",
      " 0\n",
      "\n",
      "\n",
      "羊年三八女王节怎么过？千万别略过\n",
      " 0\n",
      "\n",
      "\n",
      "本维修部专业维修出售收购各类衣车电脑平车……欢迎厂家包月维修或零修电话xxxxxxxxxxx刘生 0\n",
      "\n",
      "\n",
      "元宵节快乐兄弟出租屋开门营业欢迎新老客户光临优惠条件不变老客户带新客户房价减半\n",
      " 0\n",
      "\n",
      "\n",
      "\"東方锦鯉\"\"上海\" 0\n",
      "\n",
      "\n",
      "农行浙江省分行营业部营业中心、农行延安路支行等25家农行合作服务网点 1\n",
      "\n",
      "\n",
      "東方錦鯉'上海\n",
      " 0\n",
      "\n",
      "\n",
      "羊咩咩外卖小店明天开业啦……欢迎各位新老顾客订餐优惠多多……联系电话:xxxxxxxxxxx 0\n",
      "\n",
      "\n",
      "西楚风湖北菜馆欢迎您.本店环境优雅 0\n",
      "\n",
      "\n",
      "[威远县实验小学]尊敬的唐广家长 0\n",
      "\n",
      "\n",
      "七字诗：主攻：x 0\n",
      "\n",
      "\n",
      ";今后不用麻烦去*奥*门了\n",
      " 0\n",
      "\n",
      "\n",
      "九肖蛇羊鼠牛兔龙猴狗猪绝杀鸡猪虎另绝杀猪马羊一诗古戏一出在今期另又聚三合定中特 0\n",
      "\n",
      "\n",
      "东莞银行凤岗支行x月公司理财 0\n",
      "\n",
      "\n",
      "国寿幸福家庭专亨利益重大回馈、积分兑换相应礼品、现场有资产管理账户回馈、贴现派送、您到时请连糸服务经理陈友斌！电话xxxxxxxxxx 0\n",
      "\n",
      "\n",
      "天津北辰区顺义道天物未来城新房特价优惠不到一万一平米原价xxxxx\n",
      " 0\n",
      "\n",
      "\n",
      "新年喜讯：云/南会/计从/业资/格考/前资/料 0\n",
      "\n",
      "\n",
      "王为您免费提供:香港六合彩开奖|曾道人|白小姐|惠泽社群|香港赛马会|赛马会开奖结果|liuhecai|六合采|六和彩|x合彩|六合彩 0\n",
      "\n",
      "\n",
      "解放营子政府楼下大厅美能达家电城x月x日推出xxx元送智能手机和平台电脑各一台再送一千话费一次性到账电话xxxxxxxxxxx\n",
      " 0\n",
      "\n",
      "\n",
      "诚心购买:三星Gxxxx电信版或华为Matex电信版\n",
      " 0\n",
      "\n",
      "\n",
      "文登考研 0\n",
      "\n",
      "\n",
      "轮滑培训本学期报名开始了 0\n",
      "\n",
      "\n",
      "请速交房租．请存入建行xxxxxxxxxxxxxxxxxxx邹丽平收．房东．谢谢． 0\n",
      "\n",
      "\n",
      "前x年期内的银行开发产品\n",
      " 0\n",
      "\n",
      "\n",
      "华润建材x?xx活动劲爆来袭：世界冠军杨威、赵蕊蕊现场签售、xxx元＜冠军宝典＞=xxxx元+品牌榨汁机、购买正价产品满xxxx元可获 0\n",
      "\n",
      "\n",
      "各位哥子：新款pos机已到，需要信用卡资金周转的请电话咨询我：国瑞城小连：xxxxxxxxxxx 0\n",
      "\n",
      "\n",
      "深圳税博会计师事务所为您提供高新软件等审计、税审、代理记账、会计真账实操及出口退税培训等服务网址kjxxxx.org电话xxxxxxxx 0\n",
      "\n",
      "\n",
      "你好!我司有(国/地/单/据/做帐 0\n",
      "\n",
      "\n",
      "在职骨干教师为您孩子的学习保驾护航、xx年的补习经验、还怕你的孩子学习不好吗？签约辅导、不达预测成绩全额退款。高考中考科科突破xxx分 0\n",
      "\n",
      "\n",
      "固原老字号食苑楼饭店感谢您的来电、宁夏三原美食诚邀您光临品鉴郑重承诺菜品不使用味精、防腐剂、色素地址凤凰北街公园西门对面兴仁巷xx\n",
      " 0\n",
      "\n",
      "\n",
      "周/转不易。银/行通\n",
      " 0\n",
      "\n",
      "\n",
      "xx期三肖中特（龙xx/xx牛xx\n",
      " 0\n",
      "\n",
      "\n",
      "农xxxxxxxxxxxOxxxxxxx 彭洋\n",
      " 0\n",
      "\n",
      "\n",
      "鑫鑫商贸感谢您的来电 0\n",
      "\n",
      "\n",
      "俊越车行欢迎你的来电\n",
      " 0\n",
      "\n",
      "\n",
      "亲：邛崃曼妮芬店三八妇女节感恩回馈\n",
      " 0\n",
      "\n",
      "\n",
      "惠群鞋业辉煌十一周年 0\n",
      "\n",
      "\n",
      "新一年的开始：本人祝各位全家身体健康、生意兴隆、本公司以开始放款、如有资金困难本人为你排忧解难、合作愉快、xxxx年我们大家一起更好！\n",
      " 0\n",
      "\n",
      "\n",
      "您好!现岭御苑唯一单位内部转名\n",
      " 0\n",
      "\n",
      "\n",
      "尊贵会员：国贸大润发一楼“宜欣百货”雅诗兰黛\n",
      " 0\n",
      "\n",
      "\n",
      "丰厚奖励 0\n",
      "\n",
      "\n",
      "建行：xxxxxxxxxxxxxxxxxxx方杏美\n",
      " 0\n",
      "\n",
      "\n",
      "澳门政府发布博彩官网 澳门权威赌场网上直营 0\n",
      "\n",
      "\n",
      "xxxxxxxxxxxxxxxxx\n",
      " 0\n",
      "\n",
      "\n",
      "[亿旺服装]套房出售\n",
      " 0\n",
      "\n",
      "\n",
      "—————约——————泡———— 小涛xxxxxxxxxxx\n",
      " 0\n",
      "\n",
      "\n",
      "你好；如需《办/证》刻/章；等等请联系、电话：lxxxxxxxxxx：见货给钱 0\n",
      "\n",
      "\n",
      "户型空调优惠直减xxxx元/套。诚邀您来样板间参观\n",
      " 0\n",
      "\n",
      "\n",
      "你好本公司有正规发票联系人李小姐 0\n",
      "\n",
      "\n",
      "邮政xxxxxxxxxxxxxxxxx郑泽群 0\n",
      "\n",
      "\n",
      "中山市小榄镇南崛纸箱厂感谢您的来电\n",
      " 0\n",
      "\n",
      "\n",
      "xx套“仅xxxxx”需元高品质特价整装=客厅品牌沙发\n",
      " 0\n",
      "\n",
      "\n",
      "您好、飞洋健身开设项目：瑜伽、健身操、肚皮舞、爵士舞、拉丁舞、民族舞…………等各种成人健身项目、另有男士减肥、增肌……飞洋健身周家坝店\n",
      " 0\n",
      "\n",
      "\n",
      "熊双桂邮政/xxxx/xxxx/xxxx/xxxx/xxx\n",
      " 0\n",
      "\n",
      "\n",
      "xxxx年注册审核员考前泄/密試/题\n",
      " 0\n",
      "\n",
      "\n",
      "东莞电子厂招聘学生工xxx人 0\n",
      "\n",
      "\n"
     ]
    }
   ],
   "source": [
    "for key in err_dict.keys():\n",
    "    print(key,err_dict[key])\n",
    "    print('\\n')"
   ]
  },
  {
   "cell_type": "markdown",
   "metadata": {},
   "source": [
    "定义evaluate指标"
   ]
  },
  {
   "cell_type": "code",
   "execution_count": 40,
   "metadata": {},
   "outputs": [],
   "source": [
    "from sklearn import metrics\n",
    "def elevate_result(label,pred):\n",
    "    \"\"\"\n",
    "    函数说明: 对分类器预测的结果进行评估，包括accurancy,precision,recall,F-score\n",
    "    Parameter:\n",
    "        label - 真实值\n",
    "        pred - 预测值\n",
    "    Return:\n",
    "        None\n",
    "    Modify:\n",
    "        2017-12-22\n",
    "    \"\"\"\n",
    "    con_mat = metrics.confusion_matrix(label,pred)\n",
    "    TP = con_mat[1,1]\n",
    "    TN = con_mat[0,0]\n",
    "    FP = con_mat[0,1]\n",
    "    FN = con_mat[1,0]\n",
    "    \n",
    "    accurancy = (TP+TN)/(TP+TN+FN+FP)\n",
    "    precison = TP/(TP+FP) #精确率反应误报情况\n",
    "    recall = TP/(TP+FN) # 召回率反应漏报情况\n",
    "    beta = 1\n",
    "    F_score = (1+pow(beta,2))*precison*recall/(pow(beta,2)*precison+recall)\n",
    "    \n",
    "    print(\"TP:\",TP)\n",
    "    print(\"TN:\",TN)\n",
    "    print(\"FP:\",FP)\n",
    "    print(\"FN:\",FN) \n",
    "    print(\"accuracy: %s \\nprecision: %s \\nrecall: %s \\nF-score: %s\" % (accurancy,precison,recall,F_score))\n",
    "    \n",
    "    return [accurancy,precison,recall,F_score]\n"
   ]
  },
  {
   "cell_type": "markdown",
   "metadata": {},
   "source": [
    "evaluate result"
   ]
  },
  {
   "cell_type": "code",
   "execution_count": 42,
   "metadata": {},
   "outputs": [
    {
     "name": "stdout",
     "output_type": "stream",
     "text": [
      "TP: 3861\n",
      "TN: 36030\n",
      "FP: 3\n",
      "FN: 106\n",
      "accurancy: 0.997275 \n",
      "precison: 0.9992236024844721 \n",
      "recall: 0.9732795563398033 \n",
      "F-score: 0.9860809602860426\n"
     ]
    },
    {
     "data": {
      "text/plain": [
       "[0.997275, 0.9992236024844721, 0.9732795563398033, 0.9860809602860426]"
      ]
     },
     "execution_count": 42,
     "metadata": {},
     "output_type": "execute_result"
    }
   ],
   "source": [
    "label_t=[]\n",
    "with open('../data/test.csv','r') as f:\n",
    "    re=csv.reader(f)\n",
    "    next(re)\n",
    "    for row in re:\n",
    "        label_t.append(int(row[0]))\n",
    "elevate_result(label_t,pred)"
   ]
  },
  {
   "cell_type": "markdown",
   "metadata": {},
   "source": [
    "输出漏报误报"
   ]
  },
  {
   "cell_type": "code",
   "execution_count": null,
   "metadata": {},
   "outputs": [],
   "source": [
    "with open('../data/error_report.csv','w') as f:\n",
    "    wr=csv.writer(f)\n",
    "    wr.writerow(['pred','mess'])\n",
    "    for key in err_dict:\n",
    "        wr.writerow([err_dict[key],key])\n",
    "    "
   ]
  },
  {
   "cell_type": "code",
   "execution_count": 2,
   "metadata": {},
   "outputs": [],
   "source": [
    "df_test=pd.read_csv('../data/test.csv')\n",
    "df_error=pd.read_csv('../data/error_report.csv')\n",
    "correct_p_dict={}\n",
    "correct_n_dict={}\n",
    "err_list={}\n",
    "for index,row in df_error.iterrows():\n",
    "    err_list[row['mess']]=int(row['pred'])\n",
    "for index,row in df_test.iterrows():\n",
    "    if row['content'] not in err_list.keys() :\n",
    "        if int(row['label'])==1:\n",
    "            correct_p_dict[row['content']]=int(row['label']) # correct positive \n",
    "        elif int(row['label'])==0:\n",
    "            correct_n_dict[row['content']]=int(row['label']) # correct negative\n",
    "\n",
    "        \n"
   ]
  },
  {
   "cell_type": "code",
   "execution_count": 27,
   "metadata": {},
   "outputs": [
    {
     "name": "stdout",
     "output_type": "stream",
     "text": [
      "<class 'pandas.core.frame.DataFrame'>\n"
     ]
    }
   ],
   "source": [
    "import pandas as pd\n",
    "# import DataFrame.append as append\n",
    "correct_p_df=pd.DataFrame(columns=['content','label'])\n",
    "cp_list=np.array(correct_p_df).tolist()\n",
    "print(type(correct_p_df))\n",
    "for key in correct_p_dict.keys():\n",
    "    cp_list.append([key,correct_p_dict[key]])\n",
    "correct_p_df=pd.DataFrame(cp_list,columns=['content','label'])\n",
    "correct_n_df=pd.DataFrame(columns=['content','label'])\n",
    "cn_list=np.array(correct_n_df).tolist()\n",
    "for key in correct_n_dict.keys():\n",
    "    cn_list.append([key,correct_n_dict[key]])\n",
    "correct_n_df=pd.DataFrame(cn_list,columns=['content','label'])\n",
    "        # correct_n_df=correct_n_df.loc([\n",
    "            # key,correct_n_dict[key]])"
   ]
  },
  {
   "cell_type": "markdown",
   "metadata": {},
   "source": [
    "获取正确预测的数据"
   ]
  },
  {
   "cell_type": "code",
   "execution_count": 31,
   "metadata": {},
   "outputs": [],
   "source": [
    "correct_p_df.to_csv('../data/correct_positive.csv',index=False)\n",
    "correct_n_df.to_csv('../data/correct_negative.csv',index=False)"
   ]
  },
  {
   "cell_type": "markdown",
   "metadata": {},
   "source": [
    "正确预测数据采样"
   ]
  },
  {
   "cell_type": "code",
   "execution_count": 32,
   "metadata": {},
   "outputs": [],
   "source": [
    "sample_cp_df=correct_p_df.sample(n=200)\n",
    "sample_cn_df=correct_n_df.sample(n=200)"
   ]
  },
  {
   "cell_type": "code",
   "execution_count": 33,
   "metadata": {},
   "outputs": [],
   "source": [
    "sample_cp_df.to_csv('../data/sample_correct_positive.csv',index=False)\n",
    "sample_cn_df.to_csv('../data/sample_correct_negative.csv',index=False)"
   ]
  },
  {
   "cell_type": "markdown",
   "metadata": {},
   "source": [
    "分析正确预测数据的文本长度分布（剔除长字符）"
   ]
  },
  {
   "cell_type": "code",
   "execution_count": 9,
   "metadata": {},
   "outputs": [
    {
     "data": {
      "image/png": "[encoded data removed]",
      "text/plain": [
       "<Figure size 640x480 with 1 Axes>"
      ]
     },
     "metadata": {},
     "output_type": "display_data"
    },
    {
     "data": {
      "image/png": "[encoded data removed]",
      "text/plain": [
       "<Figure size 640x480 with 1 Axes>"
      ]
     },
     "metadata": {},
     "output_type": "display_data"
    }
   ],
   "source": [
    "import matplotlib.pyplot as plt\n",
    "import pandas as pd\n",
    "\n",
    "# 假设你的字符串列表是 str_list\n",
    "# str_list = ['hello', 'world', 'python', 'programming', 'assistant']\n",
    "df=pd.read_csv('../data/correct_positive.csv')\n",
    "str_list=df['content']\n",
    "\n",
    "# 计算所有字符串的长度\n",
    "lengths = [len(s) for s in str_list]\n",
    "\n",
    "# 画出分布图\n",
    "# plt.hist(lengths, bins=range(min(lengths), max(lengths) + 1))\n",
    "# plt.xlabel('Length of String')\n",
    "# plt.ylabel('Frequency')\n",
    "# plt.title('Distribution of True Positive String Lengths')\n",
    "# plt.show()\n",
    "# plt.savefig(\"../SVM/result/ps_len_all.jpg\")\n",
    "for item in lengths:\n",
    "    if item >80:\n",
    "        lengths.remove(item)\n",
    "plt.hist(lengths, bins=range(min(lengths), 80))\n",
    "plt.xlabel('Length of String')\n",
    "plt.ylabel('Frequency')\n",
    "plt.title('Distribution of True Positive String Lengths')\n",
    "plt.savefig(\"../SVM/result/ps_len_all.jpg\")\n",
    "plt.show()\n",
    "\n",
    "df=pd.read_csv('../data/sample_correct_positive.csv')\n",
    "str_list=df['content']\n",
    "\n",
    "# 计算所有字符串的长度\n",
    "lengths = [len(s) for s in str_list]\n",
    "for item in lengths:\n",
    "    if item >80:\n",
    "        lengths.remove(item)\n",
    "plt.hist(lengths, bins=range(min(lengths), 80))\n",
    "plt.xlabel('Length of String')\n",
    "plt.ylabel('Frequency')\n",
    "plt.title('Distribution of True Positive String Lengths(200)')\n",
    "\n",
    "plt.savefig(\"../SVM/result/ps_len_200.jpg\")\n",
    "plt.show()"
   ]
  },
  {
   "cell_type": "markdown",
   "metadata": {},
   "source": [
    "分析漏报误报文本长度分布"
   ]
  },
  {
   "cell_type": "code",
   "execution_count": 7,
   "metadata": {},
   "outputs": [
    {
     "data": {
      "image/png": "[encoded data removed]",
      "text/plain": [
       "<Figure size 640x480 with 1 Axes>"
      ]
     },
     "metadata": {},
     "output_type": "display_data"
    }
   ],
   "source": [
    "import matplotlib.pyplot as plt\n",
    "\n",
    "# 假设你的字符串列表是 str_list\n",
    "# str_list = ['hello', 'world', 'python', 'programming', 'assistant']\n",
    "df=pd.read_csv('../data/error_report.csv')\n",
    "str_list=df['mess']\n",
    "\n",
    "# 计算所有字符串的长度\n",
    "lengths = [len(s) for s in str_list]\n",
    "\n",
    "# 画出分布图\n",
    "plt.hist(lengths, bins=range(min(lengths), max(lengths) + 1))\n",
    "plt.xlabel('Length of String')\n",
    "plt.ylabel('Frequency')\n",
    "plt.title('Distribution of False Negative String Lengths')\n",
    "# plt.show()\n",
    "plt.savefig(\"../SVM/result/fn_len_200.jpg\")\n",
    "plt.show()"
   ]
  },
  {
   "cell_type": "markdown",
   "metadata": {},
   "source": [
    "正负样本统计"
   ]
  },
  {
   "cell_type": "code",
   "execution_count": 43,
   "metadata": {},
   "outputs": [
    {
     "name": "stdout",
     "output_type": "stream",
     "text": [
      "positive: 1041\n",
      "negative: 8959\n"
     ]
    }
   ],
   "source": [
    "import pandas as pd\n",
    "\n",
    "df=pd.read_csv('../data/sample1.csv')\n",
    "label=df['label']\n",
    "p_count=0\n",
    "n_count=0\n",
    "for item in label:\n",
    "    if int(item)==0:\n",
    "        n_count+=1\n",
    "    else:\n",
    "        p_count+=1\n",
    "print('positive:',p_count)\n",
    "print ('negative:',n_count)"
   ]
  },
  {
   "cell_type": "code",
   "execution_count": 44,
   "metadata": {},
   "outputs": [
    {
     "name": "stdout",
     "output_type": "stream",
     "text": [
      "positive: 1508\n",
      "negative: 13492\n"
     ]
    }
   ],
   "source": [
    "import pandas as pd\n",
    "\n",
    "df=pd.read_csv('../data/sample2.csv')\n",
    "label=df['label']\n",
    "p_count=0\n",
    "n_count=0\n",
    "for item in label:\n",
    "    if int(item)==0:\n",
    "        n_count+=1\n",
    "    else:\n",
    "        p_count+=1\n",
    "print('positive:',p_count)\n",
    "print ('negative:',n_count)"
   ]
  },
  {
   "cell_type": "code",
   "execution_count": 45,
   "metadata": {},
   "outputs": [
    {
     "name": "stdout",
     "output_type": "stream",
     "text": [
      "positive: 1962\n",
      "negative: 18038\n"
     ]
    }
   ],
   "source": [
    "import pandas as pd\n",
    "\n",
    "df=pd.read_csv('../data/sample3.csv')\n",
    "label=df['label']\n",
    "p_count=0\n",
    "n_count=0\n",
    "for item in label:\n",
    "    if int(item)==0:\n",
    "        n_count+=1\n",
    "    else:\n",
    "        p_count+=1\n",
    "print('positive:',p_count)\n",
    "print ('negative:',n_count)"
   ]
  },
  {
   "cell_type": "markdown",
   "metadata": {},
   "source": [
    "# 接下来是利用最后的模型对于200W+条短信进行预测评估"
   ]
  },
  {
   "cell_type": "markdown",
   "metadata": {},
   "source": [
    "使用jieba定义分词器"
   ]
  },
  {
   "cell_type": "code",
   "execution_count": 2,
   "metadata": {},
   "outputs": [],
   "source": [
    "class MessageCountVectorizer(sklearn.feature_extraction.text.CountVectorizer):\n",
    "    def build_analyzer(self):\n",
    "        def analyzer(doc):\n",
    "            words = jieba.cut(doc)\n",
    "            return words\n",
    "        return analyzer"
   ]
  },
  {
   "cell_type": "markdown",
   "metadata": {},
   "source": [
    "创建分词器并适配训练数据特征数"
   ]
  },
  {
   "cell_type": "code",
   "execution_count": 3,
   "metadata": {},
   "outputs": [
    {
     "name": "stderr",
     "output_type": "stream",
     "text": [
      "Building prefix dict from the default dictionary ...\n",
      "Loading model from cache /tmp/jieba.cache\n",
      "Dumping model to file cache /tmp/jieba.cache\n",
      "Dump cache file failed.\n",
      "Traceback (most recent call last):\n",
      "  File \"/home/ydoit/.local/lib/python3.11/site-packages/jieba/__init__.py\", line 154, in initialize\n",
      "    _replace_file(fpath, cache_file)\n",
      "PermissionError: [Errno 1] Operation not permitted: '/tmp/tmp39kr302j' -> '/tmp/jieba.cache'\n",
      "Loading model cost 0.545 seconds.\n",
      "Prefix dict has been built successfully.\n"
     ]
    },
    {
     "data": {
      "text/html": [
       "<style>#sk-container-id-1 {color: black;}#sk-container-id-1 pre{padding: 0;}#sk-container-id-1 div.sk-toggleable {background-color: white;}#sk-container-id-1 label.sk-toggleable__label {cursor: pointer;display: block;width: 100%;margin-bottom: 0;padding: 0.3em;box-sizing: border-box;text-align: center;}#sk-container-id-1 label.sk-toggleable__label-arrow:before {content: \"▸\";float: left;margin-right: 0.25em;color: #696969;}#sk-container-id-1 label.sk-toggleable__label-arrow:hover:before {color: black;}#sk-container-id-1 div.sk-estimator:hover label.sk-toggleable__label-arrow:before {color: black;}#sk-container-id-1 div.sk-toggleable__content {max-height: 0;max-width: 0;overflow: hidden;text-align: left;background-color: #f0f8ff;}#sk-container-id-1 div.sk-toggleable__content pre {margin: 0.2em;color: black;border-radius: 0.25em;background-color: #f0f8ff;}#sk-container-id-1 input.sk-toggleable__control:checked~div.sk-toggleable__content {max-height: 200px;max-width: 100%;overflow: auto;}#sk-container-id-1 input.sk-toggleable__control:checked~label.sk-toggleable__label-arrow:before {content: \"▾\";}#sk-container-id-1 div.sk-estimator input.sk-toggleable__control:checked~label.sk-toggleable__label {background-color: #d4ebff;}#sk-container-id-1 div.sk-label input.sk-toggleable__control:checked~label.sk-toggleable__label {background-color: #d4ebff;}#sk-container-id-1 input.sk-hidden--visually {border: 0;clip: rect(1px 1px 1px 1px);clip: rect(1px, 1px, 1px, 1px);height: 1px;margin: -1px;overflow: hidden;padding: 0;position: absolute;width: 1px;}#sk-container-id-1 div.sk-estimator {font-family: monospace;background-color: #f0f8ff;border: 1px dotted black;border-radius: 0.25em;box-sizing: border-box;margin-bottom: 0.5em;}#sk-container-id-1 div.sk-estimator:hover {background-color: #d4ebff;}#sk-container-id-1 div.sk-parallel-item::after {content: \"\";width: 100%;border-bottom: 1px solid gray;flex-grow: 1;}#sk-container-id-1 div.sk-label:hover label.sk-toggleable__label {background-color: #d4ebff;}#sk-container-id-1 div.sk-serial::before {content: \"\";position: absolute;border-left: 1px solid gray;box-sizing: border-box;top: 0;bottom: 0;left: 50%;z-index: 0;}#sk-container-id-1 div.sk-serial {display: flex;flex-direction: column;align-items: center;background-color: white;padding-right: 0.2em;padding-left: 0.2em;position: relative;}#sk-container-id-1 div.sk-item {position: relative;z-index: 1;}#sk-container-id-1 div.sk-parallel {display: flex;align-items: stretch;justify-content: center;background-color: white;position: relative;}#sk-container-id-1 div.sk-item::before, #sk-container-id-1 div.sk-parallel-item::before {content: \"\";position: absolute;border-left: 1px solid gray;box-sizing: border-box;top: 0;bottom: 0;left: 50%;z-index: -1;}#sk-container-id-1 div.sk-parallel-item {display: flex;flex-direction: column;z-index: 1;position: relative;background-color: white;}#sk-container-id-1 div.sk-parallel-item:first-child::after {align-self: flex-end;width: 50%;}#sk-container-id-1 div.sk-parallel-item:last-child::after {align-self: flex-start;width: 50%;}#sk-container-id-1 div.sk-parallel-item:only-child::after {width: 0;}#sk-container-id-1 div.sk-dashed-wrapped {border: 1px dashed gray;margin: 0 0.4em 0.5em 0.4em;box-sizing: border-box;padding-bottom: 0.4em;background-color: white;}#sk-container-id-1 div.sk-label label {font-family: monospace;font-weight: bold;display: inline-block;line-height: 1.2em;}#sk-container-id-1 div.sk-label-container {text-align: center;}#sk-container-id-1 div.sk-container {/* jupyter's `normalize.less` sets `[hidden] { display: none; }` but bootstrap.min.css set `[hidden] { display: none !important; }` so we also need the `!important` here to be able to override the default hidden behavior on the sphinx rendered scikit-learn.org. See: https://github.com/scikit-learn/scikit-learn/issues/21755 */display: inline-block !important;position: relative;}#sk-container-id-1 div.sk-text-repr-fallback {display: none;}</style><div id=\"sk-container-id-1\" class=\"sk-top-container\"><div class=\"sk-text-repr-fallback\"><pre>MessageCountVectorizer(max_df=0.9, min_df=2)</pre><b>In a Jupyter environment, please rerun this cell to show the HTML representation or trust the notebook. <br />On GitHub, the HTML representation is unable to render, please try loading this page with nbviewer.org.</b></div><div class=\"sk-container\" hidden><div class=\"sk-item\"><div class=\"sk-estimator sk-toggleable\"><input class=\"sk-toggleable__control sk-hidden--visually\" id=\"sk-estimator-id-1\" type=\"checkbox\" checked><label for=\"sk-estimator-id-1\" class=\"sk-toggleable__label sk-toggleable__label-arrow\">MessageCountVectorizer</label><div class=\"sk-toggleable__content\"><pre>MessageCountVectorizer(max_df=0.9, min_df=2)</pre></div></div></div></div></div>"
      ],
      "text/plain": [
       "MessageCountVectorizer(max_df=0.9, min_df=2)"
      ]
     },
     "execution_count": 3,
     "metadata": {},
     "output_type": "execute_result"
    }
   ],
   "source": [
    "vect = \tMessageCountVectorizer(max_df=0.9,min_df=2)\n",
    "df=pd.read_csv('../data/sample3.csv')\n",
    "train_content=df['content']\n",
    "vect.fit(train_content)"
   ]
  },
  {
   "cell_type": "markdown",
   "metadata": {},
   "source": [
    "读取数据文件 并选出其中不在训练数据中的数据"
   ]
  },
  {
   "cell_type": "code",
   "execution_count": 11,
   "metadata": {},
   "outputs": [],
   "source": [
    "data1=pd.read_csv('../../datasets/spam.csv')\n",
    "data2=pd.read_csv('../../datasets/sms_pub.csv')\n",
    "train_df=pd.read_csv('../data/sample3.csv')\n",
    "train_dict={}\n",
    "for index,row in train_df.iterrows():\n",
    "    train_dict[row['content']]=int(row['label'])\n",
    "count=0\n",
    "temple_dict={}\n",
    "for index,row in data1.iterrows():\n",
    "    if row['content'] not in train_dict.keys():\n",
    "        temple_dict[row['content']]=int(row['label'])\n",
    "for index,row in data2.iterrows():\n",
    "    if row['message'] not in train_dict.keys():\n",
    "        temple_dict[row['message']]=int(row['label'])\n",
    "temple_list=[]\n",
    "label_list=[]\n",
    "for key in temple_dict:\n",
    "    temple_list.append([key,temple_dict[key]])\n",
    "    label_list.append(temple_dict[key])\n",
    "df=pd.DataFrame(temple_list,columns=['content','label'])  \n",
    "test_content=df['content']\n",
    "\n"
   ]
  },
  {
   "cell_type": "markdown",
   "metadata": {},
   "source": [
    "对测试数据进行分词"
   ]
  },
  {
   "cell_type": "code",
   "execution_count": 12,
   "metadata": {},
   "outputs": [
    {
     "name": "stdout",
     "output_type": "stream",
     "text": [
      "start gen vec...\n",
      "\n",
      "current_time:  2024-03-25 13:35:21\n",
      "end gen vec...\n",
      "\n",
      "current_time:  2024-03-25 13:37:37\n"
     ]
    }
   ],
   "source": [
    "print('start gen vec...\\n')\n",
    "from datetime import datetime as dt \n",
    "current_time = dt.now().strftime('%Y-%m-%d %H:%M:%S')  \n",
    "print('current_time: ',current_time)\n",
    "test_content=vect.transform(test_content)\n",
    "print('end gen vec...\\n')\n",
    "current_time = dt.now().strftime('%Y-%m-%d %H:%M:%S') \n",
    "print('current_time: ',current_time)"
   ]
  },
  {
   "cell_type": "markdown",
   "metadata": {},
   "source": [
    "原标签"
   ]
  },
  {
   "cell_type": "code",
   "execution_count": 13,
   "metadata": {},
   "outputs": [],
   "source": [
    "label_list=df['label'].to_list()"
   ]
  },
  {
   "cell_type": "markdown",
   "metadata": {},
   "source": [
    "加载模型并进行预测"
   ]
  },
  {
   "cell_type": "code",
   "execution_count": 15,
   "metadata": {},
   "outputs": [],
   "source": [
    "clf=load('../../save_model/svm_model_linear.joblib')\n",
    "pred=clf.predict(test_content.toarray())\n",
    "pred_list=[]\n",
    "for value in pred:\n",
    "    value=int(value)\n",
    "    pred_list.append(value)"
   ]
  }
 ],
 "metadata": {
  "kernelspec": {
   "display_name": "base",
   "language": "python",
   "name": "python3"
  },
  "language_info": {
   "codemirror_mode": {
    "name": "ipython",
    "version": 3
   },
   "file_extension": ".py",
   "mimetype": "text/x-python",
   "name": "python",
   "nbconvert_exporter": "python",
   "pygments_lexer": "ipython3",
   "version": "3.11.5"
  }
 },
 "nbformat": 4,
 "nbformat_minor": 2
}
