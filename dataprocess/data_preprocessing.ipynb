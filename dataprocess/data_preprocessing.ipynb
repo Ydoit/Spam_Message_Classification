{
 "cells": [
  {
   "cell_type": "code",
   "execution_count": 1,
   "metadata": {
    "collapsed": true
   },
   "outputs": [],
   "source": [
    "import jieba\n",
    "import time\n",
    "import pandas as pd\n",
    "import numpy as np\n",
    "import sklearn\n",
    "from sklearn.feature_extraction.text import CountVectorizer  \n",
    "from scipy import io\n",
    "import json"
   ]
  },
  {
   "cell_type": "code",
   "execution_count": 2,
   "metadata": {
    "collapsed": true
   },
   "outputs": [],
   "source": [
    "def logtime(func):\n",
    "    \"\"\"\n",
    "    函数目的：测量函数运行时间 \n",
    "    Parameter:\n",
    "        func - 被测量的函数\n",
    "    Return:\n",
    "        wrapper - 被装饰之后的函数\n",
    "    \"\"\"\n",
    "    def wrapper(*args,**kwargs):\n",
    "        start = time.time()\n",
    "        result = func(*args,**kwargs)\n",
    "        end = time.time()\n",
    "        print(\"完成函数{name}, 运行时间 {totaltime:.3f}s\".format(name=func.__name__,totaltime=end-start))\n",
    "        start = time.strftime('%Y-%m-%d %H:%M:%S',time.localtime(start))\n",
    "        end = time.strftime('%Y-%m-%d %H:%M:%S',time.localtime(end))\n",
    "        print(\"开始时间 : %s \\n结束时间 : %s \"%(start,end))\n",
    "        return result\n",
    "    return wrapper"
   ]
  },
  {
   "cell_type": "code",
   "execution_count": 3,
   "metadata": {
    "collapsed": true
   },
   "outputs": [],
   "source": [
    "def load_data(rawdata,n):\n",
    "    \"\"\"\n",
    "    Purpose:加载原始数据，处理并输出\n",
    "    \n",
    "    \"\"\"\n",
    "    alldata = pd.read_csv(rawdata,header=None)\n",
    "    alldata.columns = [\"label\",\"content\"]\n",
    "    data = alldata.sample(n)\n",
    "    # content = data[\"content\"]\n",
    "    # label=data[\"label\"]\n",
    "    return data"
   ]
  },
  {
   "cell_type": "code",
   "execution_count": 4,
   "metadata": {
    "collapsed": true
   },
   "outputs": [],
   "source": [
    "class MessageCountVectorizer(sklearn.feature_extraction.text.CountVectorizer):\n",
    "    def build_analyzer(self):\n",
    "        def analyzer(doc):\n",
    "            words = jieba.cut(doc)\n",
    "            return words\n",
    "        return analyzer"
   ]
  },
  {
   "cell_type": "code",
   "execution_count": 5,
   "metadata": {
    "collapsed": true
   },
   "outputs": [],
   "source": [
    "@logtime\n",
    "def vect_data(content,label,path):\n",
    "    \"\"\"\n",
    "    函数说明：得到每个短信的内容和标签的向量表示，同时保存特征词\n",
    "    Return:\n",
    "        vect_result - 短信的向量表示\n",
    "        label - 标签的向量表示\n",
    "        words - 词汇表\n",
    "    Modify:\n",
    "        2017-12-22\n",
    "    \n",
    "    \"\"\"\n",
    "    vect = \tMessageCountVectorizer(max_df=0.9,min_df=2)\n",
    "    vect_result=vect.fit_transform(content)\n",
    "    io.mmwrite(path.split('.csv')[0]+\"_content_vector.mtx\",vect_result)\n",
    "    \n",
    "    label = label.tolist()\n",
    "    with open(path.split('.csv')[0]+'_label_vector.json', 'w') as f:\n",
    "        json.dump(label, f)\n",
    "        \n",
    "    words = vect.get_feature_names_out()\n",
    "    words = words.tolist()\n",
    "    print(\"使用了%d条短信,词汇表长度:%s\"%(len(label),len(words)))\n",
    "    with open(path.split('.csv')[0]+'_feature_words.json', 'w') as f:\n",
    "        json.dump(words, f)"
   ]
  },
  {
   "cell_type": "code",
   "execution_count": 6,
   "metadata": {
    "collapsed": true
   },
   "outputs": [],
   "source": [
    "def gen_vect(rawdata_path):\n",
    "    rawdata_path\n",
    "    df=pd.read_csv(rawdata_path)\n",
    "    label=df['label']\n",
    "    content=df['content']\n",
    "    vect_data(content,label,rawdata_path)"
   ]
  },
  {
   "cell_type": "code",
   "execution_count": 7,
   "metadata": {},
   "outputs": [],
   "source": [
    "def data_sample(rawdata1,rawdata2,rawdata3):\n",
    "    \"\"\" \n",
    "    对原始数据进行采样,各采样10000条\n",
    "    \n",
    "    \"\"\"\n",
    "    \n",
    "    data1=load_data(rawdata1,n=10000)\n",
    "    data2=load_data(rawdata2,n=15000)\n",
    "    data3=load_data(rawdata3,n=20000)\n",
    "    with open('../data/sample1.csv', 'w') as f,open('../data/sample2.csv', 'w') as f1,open('../data/sample3.csv', 'w') as f2:\n",
    "        data1.to_csv(f,index=False)\n",
    "        data2.to_csv(f1,index=False)\n",
    "        data3.to_csv(f2,index=False)\n",
    "    return ['../data/sample1.csv','../data/sample2.csv','../data/sample3.csv']"
   ]
  },
  {
   "cell_type": "code",
   "execution_count": 8,
   "metadata": {},
   "outputs": [],
   "source": [
    "def main():\n",
    "    # flist=['../rawdata/spam.csv','../rawdata/sms_pub1.csv','../rawdata/sms_pub2.csv']\n",
    "    # sample_list=data_sample(flist[0],flist[1],flist[2])\n",
    "    # for i in sample_list:\n",
    "    #     gen_vect(i)     \n",
    "    gen_vect('../data/test.csv')   "
   ]
  },
  {
   "cell_type": "code",
   "execution_count": 9,
   "metadata": {},
   "outputs": [
    {
     "name": "stderr",
     "output_type": "stream",
     "text": [
      "Building prefix dict from the default dictionary ...\n",
      "Loading model from cache /tmp/jieba.cache\n"
     ]
    },
    {
     "name": "stderr",
     "output_type": "stream",
     "text": [
      "Dumping model to file cache /tmp/jieba.cache\n",
      "Dump cache file failed.\n",
      "Traceback (most recent call last):\n",
      "  File \"/home/ydoit/.local/lib/python3.11/site-packages/jieba/__init__.py\", line 154, in initialize\n",
      "    _replace_file(fpath, cache_file)\n",
      "PermissionError: [Errno 1] Operation not permitted: '/tmp/tmpcqn7fadu' -> '/tmp/jieba.cache'\n",
      "Loading model cost 0.596 seconds.\n",
      "Prefix dict has been built successfully.\n"
     ]
    },
    {
     "name": "stdout",
     "output_type": "stream",
     "text": [
      "使用了40000条短信,词汇表长度:27147\n",
      "完成函数vect_data, 运行时间 4.549s\n",
      "开始时间 : 2024-03-22 09:41:54 \n",
      "结束时间 : 2024-03-22 09:41:59 \n"
     ]
    }
   ],
   "source": [
    "if __name__ == \"__main__\":\n",
    "    main()"
   ]
  },
  {
   "cell_type": "code",
   "execution_count": null,
   "metadata": {
    "collapsed": true
   },
   "outputs": [],
   "source": []
  }
 ],
 "metadata": {
  "kernelspec": {
   "display_name": "Python 3",
   "language": "python",
   "name": "python3"
  },
  "language_info": {
   "codemirror_mode": {
    "name": "ipython",
    "version": 3
   },
   "file_extension": ".py",
   "mimetype": "text/x-python",
   "name": "python",
   "nbconvert_exporter": "python",
   "pygments_lexer": "ipython3",
   "version": "3.11.5"
  }
 },
 "nbformat": 4,
 "nbformat_minor": 2
}
