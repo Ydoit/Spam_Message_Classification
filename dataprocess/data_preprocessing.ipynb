{
 "cells": [
  {
   "cell_type": "code",
   "execution_count": 64,
   "metadata": {
    "collapsed": true
   },
   "outputs": [],
   "source": [
    "import jieba\n",
    "import time\n",
    "import pandas as pd\n",
    "import numpy as np\n",
    "import sklearn\n",
    "from sklearn.feature_extraction.text import CountVectorizer  \n",
    "from scipy import io\n",
    "import json"
   ]
  },
  {
   "cell_type": "code",
   "execution_count": 65,
   "metadata": {
    "collapsed": true
   },
   "outputs": [],
   "source": [
    "def logtime(func):\n",
    "    \"\"\"\n",
    "    函数目的：测量函数运行时间 \n",
    "    Parameter:\n",
    "        func - 被测量的函数\n",
    "    Return:\n",
    "        wrapper - 被装饰之后的函数\n",
    "    \"\"\"\n",
    "    def wrapper(*args,**kwargs):\n",
    "        start = time.time()\n",
    "        result = func(*args,**kwargs)\n",
    "        end = time.time()\n",
    "        print(\"完成函数{name}, 运行时间 {totaltime:.3f}s\".format(name=func.__name__,totaltime=end-start))\n",
    "        start = time.strftime('%Y-%m-%d %H:%M:%S',time.localtime(start))\n",
    "        end = time.strftime('%Y-%m-%d %H:%M:%S',time.localtime(end))\n",
    "        print(\"开始时间 : %s \\n结束时间 : %s \"%(start,end))\n",
    "        return result\n",
    "    return wrapper"
   ]
  },
  {
   "cell_type": "code",
   "execution_count": 66,
   "metadata": {
    "collapsed": true
   },
   "outputs": [],
   "source": [
    "def load_data(rawdata,n):\n",
    "    \"\"\"\n",
    "    Purpose:加载原始数据，处理并输出\n",
    "    \n",
    "    \"\"\"\n",
    "    alldata = pd.read_csv(rawdata,header=None)\n",
    "    alldata.columns = [\"label\",\"content\"]\n",
    "    data = alldata.sample(n)\n",
    "    # content = data[\"content\"]\n",
    "    # label=data[\"label\"]\n",
    "    return data"
   ]
  },
  {
   "cell_type": "code",
   "execution_count": 67,
   "metadata": {
    "collapsed": true
   },
   "outputs": [],
   "source": [
    "class MessageCountVectorizer(sklearn.feature_extraction.text.CountVectorizer):\n",
    "    def build_analyzer(self):\n",
    "        def analyzer(doc):\n",
    "            words = jieba.cut(doc)\n",
    "            return words\n",
    "        return analyzer"
   ]
  },
  {
   "cell_type": "code",
   "execution_count": 68,
   "metadata": {
    "collapsed": true
   },
   "outputs": [],
   "source": [
    "@logtime\n",
    "def vect_data(content,label,path):\n",
    "    \"\"\"\n",
    "    函数说明：得到每个短信的内容和标签的向量表示，同时保存特征词\n",
    "    Return:\n",
    "        vect_result - 短信的向量表示\n",
    "        label - 标签的向量表示\n",
    "        words - 词汇表\n",
    "    Modify:\n",
    "        2017-12-22\n",
    "    \n",
    "    \"\"\"\n",
    "    vect = \tMessageCountVectorizer(max_df=0.9,min_df=2)\n",
    "    vect_result=vect.fit_transform(content)\n",
    "    io.mmwrite(path.split('.csv')[0]+\"_content_vector.mtx\",vect_result)\n",
    "    \n",
    "    label = label.tolist()\n",
    "    with open(path.split('.csv')[0]+'_label_vector.json', 'w') as f:\n",
    "        json.dump(label, f)\n",
    "        \n",
    "    words = vect.get_feature_names_out()\n",
    "    words = words.tolist()\n",
    "    print(\"使用了%d条短信,词汇表长度:%s\"%(len(label),len(words)))\n",
    "    with open(path.split('.csv')[0]+'_feature_words.json', 'w') as f:\n",
    "        json.dump(words, f)"
   ]
  },
  {
   "cell_type": "code",
   "execution_count": 69,
   "metadata": {
    "collapsed": true
   },
   "outputs": [],
   "source": [
    "def gen_vect(rawdata_path):\n",
    "    rawdata_path\n",
    "    df=pd.read_csv(rawdata_path)\n",
    "    label=df['label']\n",
    "    content=df['content']\n",
    "    vect_data(content,label,rawdata_path)"
   ]
  },
  {
   "cell_type": "code",
   "execution_count": 70,
   "metadata": {},
   "outputs": [],
   "source": [
    "def data_sample(rawdata1,rawdata2,rawdata3):\n",
    "    \"\"\" \n",
    "    对原始数据进行采样,各采样10000条\n",
    "    \n",
    "    \"\"\"\n",
    "    \n",
    "    data1=load_data(rawdata1,n=10000)\n",
    "    data2=load_data(rawdata2,n=15000)\n",
    "    data3=load_data(rawdata3,n=20000)\n",
    "    with open('../data/sample1.csv', 'w') as f,open('../data/sample2.csv', 'w') as f1,open('../data/sample3.csv', 'w') as f2:\n",
    "        data1.to_csv(f,index=False)\n",
    "        data2.to_csv(f1,index=False)\n",
    "        data3.to_csv(f2,index=False)\n",
    "    return ['../data/sample1.csv','../data/sample2.csv','../data/sample3.csv']"
   ]
  },
  {
   "cell_type": "code",
   "execution_count": 71,
   "metadata": {},
   "outputs": [],
   "source": [
    "def main():\n",
    "    flist=['../rawdata/spam.csv','../rawdata/sms_pub1.csv','../rawdata/sms_pub2.csv']\n",
    "    sample_list=data_sample(flist[0],flist[1],flist[2])\n",
    "    for i in sample_list:\n",
    "        gen_vect(i)        "
   ]
  },
  {
   "cell_type": "code",
   "execution_count": 72,
   "metadata": {},
   "outputs": [
    {
     "name": "stderr",
     "output_type": "stream",
     "text": [
      "/tmp/ipykernel_628832/3195876691.py:6: DtypeWarning: Columns (0) have mixed types. Specify dtype option on import or set low_memory=False.\n",
      "  alldata = pd.read_csv(rawdata,header=None)\n",
      "/tmp/ipykernel_628832/3195876691.py:6: DtypeWarning: Columns (0) have mixed types. Specify dtype option on import or set low_memory=False.\n",
      "  alldata = pd.read_csv(rawdata,header=None)\n",
      "/tmp/ipykernel_628832/3195876691.py:6: DtypeWarning: Columns (0) have mixed types. Specify dtype option on import or set low_memory=False.\n",
      "  alldata = pd.read_csv(rawdata,header=None)\n"
     ]
    },
    {
     "name": "stdout",
     "output_type": "stream",
     "text": [
      "使用了10000条短信,词汇表长度:10166\n",
      "完成函数vect_data, 运行时间 0.997s\n",
      "开始时间 : 2024-03-20 09:12:37 \n",
      "结束时间 : 2024-03-20 09:12:38 \n",
      "使用了15000条短信,词汇表长度:13680\n",
      "完成函数vect_data, 运行时间 1.376s\n",
      "开始时间 : 2024-03-20 09:12:38 \n",
      "结束时间 : 2024-03-20 09:12:39 \n",
      "使用了20000条短信,词汇表长度:16566\n",
      "完成函数vect_data, 运行时间 1.828s\n",
      "开始时间 : 2024-03-20 09:12:39 \n",
      "结束时间 : 2024-03-20 09:12:41 \n"
     ]
    }
   ],
   "source": [
    "if __name__ == \"__main__\":\n",
    "    main()"
   ]
  },
  {
   "cell_type": "code",
   "execution_count": null,
   "metadata": {
    "collapsed": true
   },
   "outputs": [],
   "source": []
  }
 ],
 "metadata": {
  "kernelspec": {
   "display_name": "Python 3",
   "language": "python",
   "name": "python3"
  },
  "language_info": {
   "codemirror_mode": {
    "name": "ipython",
    "version": 3
   },
   "file_extension": ".py",
   "mimetype": "text/x-python",
   "name": "python",
   "nbconvert_exporter": "python",
   "pygments_lexer": "ipython3",
   "version": "3.11.5"
  }
 },
 "nbformat": 4,
 "nbformat_minor": 2
}
